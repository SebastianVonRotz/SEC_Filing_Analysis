{
  "nbformat": 4,
  "nbformat_minor": 0,
  "metadata": {
    "colab": {
      "provenance": [],
      "authorship_tag": "ABX9TyOF0JrIbnXFb3w7mZXkvfWy",
      "include_colab_link": true
    },
    "kernelspec": {
      "name": "python3",
      "display_name": "Python 3"
    },
    "language_info": {
      "name": "python"
    }
  },
  "cells": [
    {
      "cell_type": "markdown",
      "metadata": {
        "id": "view-in-github",
        "colab_type": "text"
      },
      "source": [
        "<a href=\"https://colab.research.google.com/github/SebastianVonRotz/SEC_Filing_Analysis/blob/main/SEC_Filing_Analysis.ipynb\" target=\"_parent\"><img src=\"https://colab.research.google.com/assets/colab-badge.svg\" alt=\"Open In Colab\"/></a>"
      ]
    },
    {
      "cell_type": "markdown",
      "source": [
        "# SEC Analysis\n",
        "\n",
        "\n",
        "\n"
      ],
      "metadata": {
        "id": "l_uz9wNcAc5b"
      }
    },
    {
      "cell_type": "markdown",
      "source": [
        "## Install missing packages"
      ],
      "metadata": {
        "id": "WEKr5IG0CVQo"
      }
    },
    {
      "cell_type": "code",
      "source": [
        "!pip install sec_api"
      ],
      "metadata": {
        "colab": {
          "base_uri": "https://localhost:8080/"
        },
        "id": "hnvQxsShCQbx",
        "outputId": "bc6f55c0-905d-4e1a-8c36-100e37c7537e"
      },
      "execution_count": 3,
      "outputs": [
        {
          "output_type": "stream",
          "name": "stdout",
          "text": [
            "Looking in indexes: https://pypi.org/simple, https://us-python.pkg.dev/colab-wheels/public/simple/\n",
            "Collecting sec_api\n",
            "  Downloading sec_api-1.0.14-py3-none-any.whl (15 kB)\n",
            "Requirement already satisfied: requests in /usr/local/lib/python3.8/dist-packages (from sec_api) (2.23.0)\n",
            "Requirement already satisfied: urllib3!=1.25.0,!=1.25.1,<1.26,>=1.21.1 in /usr/local/lib/python3.8/dist-packages (from requests->sec_api) (1.24.3)\n",
            "Requirement already satisfied: certifi>=2017.4.17 in /usr/local/lib/python3.8/dist-packages (from requests->sec_api) (2022.9.24)\n",
            "Requirement already satisfied: chardet<4,>=3.0.2 in /usr/local/lib/python3.8/dist-packages (from requests->sec_api) (3.0.4)\n",
            "Requirement already satisfied: idna<3,>=2.5 in /usr/local/lib/python3.8/dist-packages (from requests->sec_api) (2.10)\n",
            "Installing collected packages: sec-api\n",
            "Successfully installed sec-api-1.0.14\n"
          ]
        }
      ]
    },
    {
      "cell_type": "markdown",
      "source": [
        "## Load Packages"
      ],
      "metadata": {
        "id": "xJ9UU8TcCZYr"
      }
    },
    {
      "cell_type": "code",
      "source": [
        "from sec_api import QueryApi\n",
        "import json\n",
        "import pandas as pd\n",
        "from google.colab import drive\n",
        "drive.mount('/content/drive')"
      ],
      "metadata": {
        "id": "i4JrEMjjB26-"
      },
      "execution_count": 4,
      "outputs": []
    },
    {
      "cell_type": "markdown",
      "source": [
        "## Define sec api key"
      ],
      "metadata": {
        "id": "BRh1C_EXCek9"
      }
    },
    {
      "cell_type": "code",
      "source": [
        "apiKey=\"7a5b38f50a2f384b0b330ca0d6fd532d124d520b86c4ee29326a96a5e83cc397\""
      ],
      "metadata": {
        "id": "hYBfJxoLBrad"
      },
      "execution_count": 5,
      "outputs": []
    },
    {
      "cell_type": "markdown",
      "source": [
        "## Meta data of filled companies"
      ],
      "metadata": {
        "id": "f_sU6QvjAfdE"
      }
    },
    {
      "cell_type": "markdown",
      "source": [
        "Define a dict with ticker as key and CIK as values"
      ],
      "metadata": {
        "id": "-TjaEjc5DryV"
      }
    },
    {
      "cell_type": "code",
      "source": [
        "companyDict = {\n",
        "  \"CDXS\" : 1200375,\n",
        "  \"TWST\" : 1581280,\n",
        "  \"DNAY\" : 1850079,\n",
        "  \"SLGC\" : 1837412,\n",
        "  \"WVE\" : 1631574,\n",
        "  \"RNA\" : 1599901,\n",
        "  \"ALGS\" : 1799448,\n",
        "  \"STOK\" : 1623526,\n",
        "  \"IONS\" : 874015,\n",
        "  \"TRDA\" : 1689375,\n",
        "  \"XCUR\" : 1698530,\n",
        "  \"MRVI\" : 1823239,\n",
        "  \"RNAZ\" : 1829635,\n",
        "  \"GERN\" : 886744,\n",
        "  \"INM\" : 1728328,\n",
        "  \"IONS\" : 874015,\n",
        "  \"RXRX\" : 1601830,\n",
        "  \"DNA\" : 1830214,\n",
        "  \"ALNY\" : 1178670,\n",
        "  \"CMPI\" : 1651431,\n",
        "  \"SCPS\" : 1772028,\n",
        "  \"ESPR\" : 1434868,\n",
        "  \"ARWR\" : 879407,\n",
        "  \"SRPT\" : 873303,\n",
        "  \"SLGC\" : 1837412,\n",
        "  \"EWTX\" : 1710072,\n",
        "  \"DNLI\" : 1714899,\n",
        "  \"DSGN\" : 1807120,\n",
        "  \"MRNA\" : 1682852,\n",
        "  \"VERV\" : 1840574,\n",
        "  \"NBSE\" : 1173281,\n",
        "  \"BCYC\" : 1761612,\n",
        "  \"PTCT\" : 1070081,\n",
        "  \"EDIT\" : 1650664,\n",
        "  \"BIIB\" : 875045,\n",
        "  \"PHIO\" : 1533040,\n",
        "  \"PRAX\" : 1689548,\n",
        "  \"BBIO\" : 1743881,\n",
        "  \"ARCT\" : 1768224,\n",
        "  \"GRPH\" : 1815776,\n",
        "  \"VAXX\" : 1851657,\n",
        "  \"GBIO\" : 1733294,\n",
        "  \"VCNX\" : 1205922,\n",
        "  \"VIR\" : 1706431\n",
        "}\n",
        "\n",
        "print(companyDict)\n"
      ],
      "metadata": {
        "colab": {
          "base_uri": "https://localhost:8080/"
        },
        "id": "XoiB_g_9DTBv",
        "outputId": "451cb828-4eab-4042-a9ae-66ebb7643148"
      },
      "execution_count": 25,
      "outputs": [
        {
          "output_type": "stream",
          "name": "stdout",
          "text": [
            "{'CDXS': 1200375, 'TWST': 1581280, 'DNAY': 1850079, 'SLGC': 1837412, 'WVE': 1631574, 'RNA': 1599901, 'ALGS': 1799448, 'STOK': 1623526, 'IONS': 874015, 'TRDA': 1689375, 'XCUR': 1698530, 'MRVI': 1823239, 'RNAZ': 1829635, 'GERN': 886744, 'INM': 1728328, 'RXRX': 1601830, 'DNA': 1830214, 'ALNY': 1178670, 'CMPI': 1651431, 'SCPS': 1772028, 'ESPR': 1434868, 'ARWR': 879407, 'SRPT': 873303, 'EWTX': 1710072, 'DNLI': 1714899, 'DSGN': 1807120, 'MRNA': 1682852, 'VERV': 1840574, 'NBSE': 1173281, 'BCYC': 1761612, 'PTCT': 1070081, 'EDIT': 1650664, 'BIIB': 875045, 'PHIO': 1533040, 'PRAX': 1689548, 'BBIO': 1743881, 'ARCT': 1768224, 'GRPH': 1815776, 'VAXX': 1851657, 'GBIO': 1733294, 'VCNX': 1205922, 'VIR': 1706431}\n"
          ]
        }
      ]
    },
    {
      "cell_type": "markdown",
      "source": [],
      "metadata": {
        "id": "-b3Os3kyDPYy"
      }
    },
    {
      "cell_type": "code",
      "execution_count": 27,
      "metadata": {
        "id": "D6vAkJdz-ykj",
        "colab": {
          "base_uri": "https://localhost:8080/",
          "height": 1000
        },
        "outputId": "0adcaf02-27de-4fcc-dd22-88508cc31788"
      },
      "outputs": [
        {
          "output_type": "stream",
          "name": "stdout",
          "text": [
            "Saved files of  CDXS  and shape of df is:  (13, 19)\n",
            "Saved files of  TWST  and shape of df is:  (5, 19)\n",
            "Saved files of  DNAY  and shape of df is:  (1, 18)\n",
            "Saved files of  SLGC  and shape of df is:  (1, 18)\n",
            "Saved files of  WVE  and shape of df is:  (15, 19)\n",
            "Saved files of  RNA  and shape of df is:  (2, 19)\n",
            "Saved files of  ALGS  and shape of df is:  (2, 19)\n",
            "Saved files of  STOK  and shape of df is:  (3, 19)\n",
            "Saved files of  IONS  and shape of df is:  (20, 19)\n",
            "Saved files of  TRDA  and shape of df is:  (1, 18)\n",
            "Saved files of  XCUR  and shape of df is:  (6, 19)\n",
            "Saved files of  MRVI  and shape of df is:  (2, 19)\n",
            "Saved files of  RNAZ  and shape of df is:  (1, 18)\n",
            "Saved files of  GERN  and shape of df is:  (20, 19)\n",
            "Saved files of  INM  and shape of df is:  (3, 19)\n",
            "Saved files of  RXRX  and shape of df is:  (1, 18)\n",
            "Saved files of  DNA  and shape of df is:  (2, 18)\n",
            "Saved files of  ALNY  and shape of df is:  (18, 19)\n",
            "Saved files of  CMPI  and shape of df is:  (3, 19)\n",
            "Saved files of  SCPS  and shape of df is:  (5, 19)\n",
            "Saved files of  ESPR  and shape of df is:  (9, 19)\n",
            "Saved files of  ARWR  and shape of df is:  (20, 19)\n",
            "Saved files of  SRPT  and shape of df is:  (20, 19)\n",
            "Saved files of  EWTX  and shape of df is:  (1, 18)\n",
            "Saved files of  DNLI  and shape of df is:  (6, 19)\n",
            "Saved files of  DSGN  and shape of df is:  (1, 18)\n",
            "Saved files of  MRNA  and shape of df is:  (5, 19)\n",
            "Saved files of  VERV  and shape of df is:  (1, 18)\n",
            "Saved files of  NBSE  and shape of df is:  (20, 19)\n",
            "Saved files of  BCYC  and shape of df is:  (3, 19)\n",
            "Saved files of  PTCT  and shape of df is:  (9, 19)\n",
            "Saved files of  EDIT  and shape of df is:  (7, 19)\n",
            "Saved files of  BIIB  and shape of df is:  (20, 19)\n",
            "Saved files of  PHIO  and shape of df is:  (11, 19)\n",
            "Saved files of  PRAX  and shape of df is:  (2, 19)\n",
            "Saved files of  BBIO  and shape of df is:  (3, 19)\n",
            "Saved files of  ARCT  and shape of df is:  (3, 19)\n",
            "Saved files of  GRPH  and shape of df is:  (1, 18)\n",
            "Saved files of  VAXX  and shape of df is:  (1, 18)\n",
            "Saved files of  GBIO  and shape of df is:  (2, 19)\n"
          ]
        },
        {
          "output_type": "error",
          "ename": "Exception",
          "evalue": "ignored",
          "traceback": [
            "\u001b[0;31m---------------------------------------------------------------------------\u001b[0m",
            "\u001b[0;31mException\u001b[0m                                 Traceback (most recent call last)",
            "\u001b[0;32m<ipython-input-27-61a6220e1598>\u001b[0m in \u001b[0;36m<module>\u001b[0;34m\u001b[0m\n\u001b[1;32m     16\u001b[0m   }\n\u001b[1;32m     17\u001b[0m \u001b[0;34m\u001b[0m\u001b[0m\n\u001b[0;32m---> 18\u001b[0;31m   \u001b[0mfilings\u001b[0m \u001b[0;34m=\u001b[0m \u001b[0mqueryApi\u001b[0m\u001b[0;34m.\u001b[0m\u001b[0mget_filings\u001b[0m\u001b[0;34m(\u001b[0m\u001b[0mquery\u001b[0m\u001b[0;34m)\u001b[0m\u001b[0;34m\u001b[0m\u001b[0;34m\u001b[0m\u001b[0m\n\u001b[0m\u001b[1;32m     19\u001b[0m \u001b[0;34m\u001b[0m\u001b[0m\n\u001b[1;32m     20\u001b[0m   \u001b[0mdf\u001b[0m\u001b[0;34m=\u001b[0m\u001b[0mpd\u001b[0m\u001b[0;34m.\u001b[0m\u001b[0mjson_normalize\u001b[0m\u001b[0;34m(\u001b[0m\u001b[0mfilings\u001b[0m\u001b[0;34m[\u001b[0m\u001b[0;34m'filings'\u001b[0m\u001b[0;34m]\u001b[0m\u001b[0;34m)\u001b[0m\u001b[0;34m\u001b[0m\u001b[0;34m\u001b[0m\u001b[0m\n",
            "\u001b[0;32m/usr/local/lib/python3.8/dist-packages/sec_api/index.py\u001b[0m in \u001b[0;36mget_filings\u001b[0;34m(self, query)\u001b[0m\n\u001b[1;32m     44\u001b[0m                 \u001b[0mhandle_api_error\u001b[0m\u001b[0;34m(\u001b[0m\u001b[0mresponse\u001b[0m\u001b[0;34m)\u001b[0m\u001b[0;34m\u001b[0m\u001b[0;34m\u001b[0m\u001b[0m\n\u001b[1;32m     45\u001b[0m         \u001b[0;32melse\u001b[0m\u001b[0;34m:\u001b[0m\u001b[0;34m\u001b[0m\u001b[0;34m\u001b[0m\u001b[0m\n\u001b[0;32m---> 46\u001b[0;31m             \u001b[0mhandle_api_error\u001b[0m\u001b[0;34m(\u001b[0m\u001b[0mresponse\u001b[0m\u001b[0;34m)\u001b[0m\u001b[0;34m\u001b[0m\u001b[0;34m\u001b[0m\u001b[0m\n\u001b[0m\u001b[1;32m     47\u001b[0m \u001b[0;34m\u001b[0m\u001b[0m\n\u001b[1;32m     48\u001b[0m \u001b[0;34m\u001b[0m\u001b[0m\n",
            "\u001b[0;32m/usr/local/lib/python3.8/dist-packages/sec_api/index.py\u001b[0m in \u001b[0;36mhandle_api_error\u001b[0;34m(response)\u001b[0m\n\u001b[1;32m     18\u001b[0m \u001b[0;34m\u001b[0m\u001b[0m\n\u001b[1;32m     19\u001b[0m \u001b[0;32mdef\u001b[0m \u001b[0mhandle_api_error\u001b[0m\u001b[0;34m(\u001b[0m\u001b[0mresponse\u001b[0m\u001b[0;34m)\u001b[0m\u001b[0;34m:\u001b[0m\u001b[0;34m\u001b[0m\u001b[0;34m\u001b[0m\u001b[0m\n\u001b[0;32m---> 20\u001b[0;31m     \u001b[0;32mraise\u001b[0m \u001b[0mException\u001b[0m\u001b[0;34m(\u001b[0m\u001b[0;34m\"API error: {} - {}\"\u001b[0m\u001b[0;34m.\u001b[0m\u001b[0mformat\u001b[0m\u001b[0;34m(\u001b[0m\u001b[0mresponse\u001b[0m\u001b[0;34m.\u001b[0m\u001b[0mstatus_code\u001b[0m\u001b[0;34m,\u001b[0m \u001b[0mresponse\u001b[0m\u001b[0;34m.\u001b[0m\u001b[0mtext\u001b[0m\u001b[0;34m)\u001b[0m\u001b[0;34m)\u001b[0m\u001b[0;34m\u001b[0m\u001b[0;34m\u001b[0m\u001b[0m\n\u001b[0m\u001b[1;32m     21\u001b[0m \u001b[0;34m\u001b[0m\u001b[0m\n\u001b[1;32m     22\u001b[0m \u001b[0;34m\u001b[0m\u001b[0m\n",
            "\u001b[0;31mException\u001b[0m: API error: 429 - {\"status\":429,\"error\":\"You send a lot of requests. We like that. But you exceeded the free query limit of 100 requests. Upgrade your account to get unlimited access. Visit sec-api.io for more.\"}"
          ]
        }
      ],
      "source": [
        "queryApi = QueryApi(api_key=apiKey)\n",
        "\n",
        "for key in companyDict:\n",
        "    \n",
        "  queryString=\"formType:\\\"10-K\\\" AND cik:\"+ str(companyDict[key])\n",
        "\n",
        "  query = {\n",
        "      \"query\": {\n",
        "          \"query_string\": {\n",
        "              \"query\": queryString\n",
        "          }\n",
        "      },\n",
        "      \"from\": \"0\",\n",
        "      \"size\": \"20\",\n",
        "      \"sort\": [{ \"filedAt\": { \"order\": \"desc\" } }]\n",
        "  }\n",
        "\n",
        "  filings = queryApi.get_filings(query)\n",
        "\n",
        "  df=pd.json_normalize(filings['filings'])\n",
        "\n",
        "  path = \"/content/drive/My Drive/SEC_Filing_Analysis_Data/\" + key + \"_10_K_Overview.csv\"\n",
        "\n",
        "  with open(path, 'w', encoding = 'utf-8-sig') as f:\n",
        "    df.to_csv(f)\n",
        "  print(\"Saved files of \", key, \" and shape of df is: \", str(df.shape))"
      ]
    }
  ]
}